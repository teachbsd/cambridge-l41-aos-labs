{
 "cells": [
  {
   "cell_type": "markdown",
   "id": "exact-applicant",
   "metadata": {},
   "source": [
    "# Advanced Operating Systems: Lab 3 - TCP/IP - Part II Assignment\n",
    "\n",
    "This notebook provides addition sample code to use when employing `ipc-benchmark` benchmark in Lab 3 to support TCP state-machine analysis.  This code is not required for the L41 assignment."
   ]
  },
  {
   "cell_type": "markdown",
   "id": "authentic-modeling",
   "metadata": {},
   "source": [
    "## Reference material\n",
    "Here are some useful sources of information as you dig into this lab:\n",
    "\n",
    "- [Transmission Control Protocol (RFC793)](https://tools.ietf.org/html/rfc793)\n",
    "- [Graphviz documentation](http://www.graphviz.org/documentation/)\n",
    "- [Python-Graphviz manual](https://graphviz.readthedocs.io/en/stable/manual.html)"
   ]
  },
  {
   "cell_type": "markdown",
   "id": "9847192d-a93e-4e17-9dd4-60cb3f6b4613",
   "metadata": {},
   "source": [
    "# Hardware, OS, and TCP default benchmark configuration\n",
    "\n",
    "With the `-v` argument, `ipc-benchmark` will display configuration information including for the loopback interface (`lo0`) and for TCP.  Note in particular the current maximum socket-buffer size (`kern.ipc.maxsockbuf`) and current loopback MTU (`ifnet.mtu`), and confirm that they are set correctly."
   ]
  },
  {
   "cell_type": "code",
   "execution_count": null,
   "id": "a25d1244-94a7-4392-9e3f-bfb9c0dc88d2",
   "metadata": {},
   "outputs": [],
   "source": [
    "!ipc/ipc-benchmark describe"
   ]
  },
  {
   "cell_type": "markdown",
   "id": "supreme-hartford",
   "metadata": {},
   "source": [
    "# Graphviz"
   ]
  },
  {
   "cell_type": "markdown",
   "id": "native-enlargement",
   "metadata": {},
   "source": [
    "In this lab, you are asked to produce plots of the TCP state machine based on practical DTrace instrumentation of the kernel. The tool *Graphviz* is invaluable for producing state-machine plots, and we recommend it for this lab. Do explore and use Graphviz's layout features, including its clustering, ranking, and labeling facilities, to help organise and explain the graph."
   ]
  },
  {
   "cell_type": "code",
   "execution_count": null,
   "id": "greenhouse-petroleum",
   "metadata": {},
   "outputs": [],
   "source": [
    "from graphviz import Digraph\n",
    "dot = Digraph()\n",
    "dot.node('CLOSED')\n",
    "dot.node('OPEN')\n",
    "dot.edge('CLOSED', 'OPEN', label=\"SYN\")\n",
    "dot.edge('OPEN', 'CLOSED', label=\"FIN\")\n",
    "dot"
   ]
  }
 ],
 "metadata": {
  "kernelspec": {
   "display_name": "Python 3",
   "language": "python",
   "name": "python3"
  },
  "language_info": {
   "codemirror_mode": {
    "name": "ipython",
    "version": 3
   },
   "file_extension": ".py",
   "mimetype": "text/x-python",
   "name": "python",
   "nbconvert_exporter": "python",
   "pygments_lexer": "ipython3",
   "version": "3.8.12"
  }
 },
 "nbformat": 4,
 "nbformat_minor": 5
}
