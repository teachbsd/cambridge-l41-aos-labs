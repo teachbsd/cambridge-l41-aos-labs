{
 "cells": [
  {
   "cell_type": "markdown",
   "id": "exact-applicant",
   "metadata": {},
   "source": [
    "# Advanced Operating Systems: Lab 3 - TCP/IP - DTrace functions\n",
    "\n",
    "This notebook provides sample code that collects data from DTrace probes and works not only with aggregations but also probes using `trace()` and `printf()` D functions."
   ]
  },
  {
   "cell_type": "markdown",
   "id": "15c98f69-941c-4426-a936-158e601b5883",
   "metadata": {
    "tags": []
   },
   "source": [
    "## Import the DTrace module\n",
    "\n",
    "As in previous labs, first import the `python-dtrace` module:"
   ]
  },
  {
   "cell_type": "code",
   "execution_count": null,
   "id": "769a9543-9d54-4b81-b1f4-d3a9f8c287a6",
   "metadata": {},
   "outputs": [],
   "source": [
    "from dtrace import DTraceConsumerThread\n",
    "import subprocess"
   ]
  },
  {
   "cell_type": "markdown",
   "id": "94b60373-6083-4dcf-b888-f04b6429554e",
   "metadata": {
    "tags": []
   },
   "source": [
    "## (UPDATED) Define a DTrace convenience function\n",
    "\n",
    "Next, define the `dtrace_synchronous()` function with an additional argument `out`. The `out` argument is a function that is called whenever DTrace prints output, e.g. with `trace()` or `printf()`. The `walker` argument is a function that is called to collect aggregations. The `walker` and `out` arguments can be used together."
   ]
  },
  {
   "cell_type": "code",
   "execution_count": null,
   "id": "dd3176bb-60c0-428f-aea0-4e3e54e1983a",
   "metadata": {},
   "outputs": [],
   "source": [
    "def dtrace_synchronous(script, walker, out, cmdline):\n",
    "    \"\"\"\n",
    "    script - a D script\n",
    "    walker - a routine to receive data from aggregations\n",
    "    out - a routine to receive data from output\n",
    "    cmdline - a command to run\n",
    "    \"\"\"\n",
    "    \n",
    "    # Create a seperate thread to run the DTrace instrumentation\n",
    "    dtrace_thread = DTraceConsumerThread(script,\n",
    "                                     walk_func=walker,\n",
    "                                     out_func=out,\n",
    "                                     chew_func=lambda v: None,\n",
    "                                     chewrec_func=lambda v: None,\n",
    "                                     sleep=1)\n",
    "    \n",
    "    # Start the DTrace instrumentation\n",
    "    dtrace_thread.start()\n",
    "\n",
    "    # Display header to indicate that dd(1) has started\n",
    "    print(\"## Starting \", cmdline)\n",
    "\n",
    "    output_dtrace = subprocess.run(cmdline.split(\" \"))\n",
    "        \n",
    "    # The benchmark has completed - stop the DTrace instrumentation\n",
    "    dtrace_thread.stop()\n",
    "    dtrace_thread.join()\n",
    "\n",
    "    # Display footer to indicate that the benchmarking has finished\n",
    "    if output_dtrace.returncode == 0:\n",
    "        print(\"## Finished \", cmdline)\n",
    "    elif output_dtrace.returncode == 64: # EX_USAGE\n",
    "        print(\"## Invalid command\", cmdline)\n",
    "    else:\n",
    "        print(\"## Failed with the exit code {}\".format(output_dtrace.returncode))\n",
    "        \n",
    "    # Explicitly free DTrace resources.\n",
    "    # Python's Garbage Collector would free DTrace resources when\n",
    "    # dtrace_thread is reassigned, e.g. when the cell is reexecuted.\n",
    "    # This could be confusing when analysing kernel from a terminal\n",
    "    # and the notebook at the same time.\n",
    "    del dtrace_thread"
   ]
  },
  {
   "cell_type": "markdown",
   "id": "d84dea26-685a-4eb5-8526-28d9d6118289",
   "metadata": {},
   "source": [
    "## Collect TCP segment details and system-call counts\n",
    "\n",
    "In order to collect both information on TCP segments (as mentioned in Advanced Operating Systems: Lab 3 – TCP, General Information) and system-call counts (as in Advanced Operating Systems: Lab 1 - Getting Started with Kernel Tracing), we define two actions: one that prints to output details on a TCP segment, and one that aggregates system-call counts.\n",
    "\n",
    "Our `out` function called `tcp_out` parses bytes from one output line at the time and must decode information printed to output as opposed to the `walker` function `tcp_walker` that receives a list of keys.\n",
    "\n",
    "Note that the `tcp_script` D script is an example D script that should be extended with appropriate predicates to only trace information relevant to our benchmark."
   ]
  },
  {
   "cell_type": "code",
   "execution_count": null,
   "id": "89ec029c-e13b-48f5-b4c8-03fbddd75fc0",
   "metadata": {},
   "outputs": [],
   "source": [
    "tcp_script = \"\"\"\n",
    "fbt::tcp_do_segment:entry\n",
    "{\n",
    "    printf(\"%u %u %s\",\n",
    "        (unsigned int)args[1]->th_seq,\n",
    "        (unsigned int)args[1]->th_ack,\n",
    "        tcp_state_string[args[3]->t_state]);\n",
    "}\n",
    "\n",
    "syscall:::entry\n",
    "/execname == \"ipc-benchmark\"/\n",
    "{\n",
    "    @syscalls[probefunc] = count();\n",
    "}\n",
    "\"\"\"\n",
    "\n",
    "from collections import defaultdict\n",
    "syscall_count_values = defaultdict(int)\n",
    "tcp_segments = []\n",
    "\n",
    "def tcp_walker(action, identifier, keys, value):\n",
    "    \"\"\"\n",
    "    action -- a type of action (sum, avg, ...)\n",
    "    identifier -- the id\n",
    "    keys -- list of keys\n",
    "    value -- the value\n",
    "    \"\"\"\n",
    "    syscall_count_values[keys[0]] += value\n",
    "\n",
    "def tcp_out(value):\n",
    "    \"\"\"\n",
    "    value -- the value, of the bytes type.\n",
    "    \"\"\"\n",
    "    value = value.decode('ascii').split(' ')\n",
    "    tcp_segments.append({'seq': int(value[0]), 'ack': int(value[1]), 'state': value[2]})\n",
    "\n",
    "dtrace_synchronous(tcp_script, tcp_walker, tcp_out, \"ipc/ipc-benchmark -j -v -i tcp -b 64 -t 64 2thread\")\n",
    "\n",
    "for x in syscall_count_values.keys():\n",
    "    print(\"Number of \", x, \" calls: \", syscall_count_values[x])\n",
    "\n",
    "for segment in tcp_segments:\n",
    "    print(\"seq={} ack={} string={}\".format(segment['seq'], segment['ack'], segment['state']))\n"
   ]
  }
 ],
 "metadata": {
  "kernelspec": {
   "display_name": "Python 3",
   "language": "python",
   "name": "python3"
  },
  "language_info": {
   "codemirror_mode": {
    "name": "ipython",
    "version": 3
   },
   "file_extension": ".py",
   "mimetype": "text/x-python",
   "name": "python",
   "nbconvert_exporter": "python",
   "pygments_lexer": "ipython3",
   "version": "3.8.12"
  }
 },
 "nbformat": 4,
 "nbformat_minor": 5
}
