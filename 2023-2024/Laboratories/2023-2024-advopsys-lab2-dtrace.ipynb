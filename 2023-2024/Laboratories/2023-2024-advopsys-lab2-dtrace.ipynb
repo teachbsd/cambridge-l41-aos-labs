{
 "cells": [
  {
   "cell_type": "markdown",
   "id": "exact-applicant",
   "metadata": {},
   "source": [
    "# Advanced Operating Systems: Lab 2 - Inter-Process Communication (IPC) - DTrace functions\n",
    "\n",
    "This notebook provides sample code that collects data from DTrace probes and works not only with aggregations but also probes using `trace()` and `printf()` D functions."
   ]
  },
  {
   "cell_type": "markdown",
   "id": "15c98f69-941c-4426-a936-158e601b5883",
   "metadata": {
    "tags": []
   },
   "source": [
    "## Import the DTrace module\n",
    "\n",
    "As in previous labs, first import the `python-dtrace` module:"
   ]
  },
  {
   "cell_type": "code",
   "execution_count": null,
   "id": "769a9543-9d54-4b81-b1f4-d3a9f8c287a6",
   "metadata": {},
   "outputs": [],
   "source": [
    "from dtrace import DTraceConsumerThread\n",
    "import subprocess"
   ]
  },
  {
   "cell_type": "markdown",
   "id": "94b60373-6083-4dcf-b888-f04b6429554e",
   "metadata": {
    "tags": []
   },
   "source": [
    "## Define a DTrace convenience function\n",
    "\n",
    "Next, define the `dtrace_synchronous()` function with an additional argument `out`. The `out` argument is a function that is called whenever DTrace prints output, e.g. with `trace()` or `printf()`. The `walker` argument is a function that is called to collect aggregations. The `walker` and `out` arguments can be used together."
   ]
  },
  {
   "cell_type": "code",
   "execution_count": null,
   "id": "dd3176bb-60c0-428f-aea0-4e3e54e1983a",
   "metadata": {},
   "outputs": [],
   "source": [
    "def dtrace_synchronous(script, walker, out, cmdline):\n",
    "    \"\"\"\n",
    "    script - a D script\n",
    "    walker - a routine to receive data from aggregations\n",
    "    out - a routine to receive data from output\n",
    "    cmdline - a command to run\n",
    "    \"\"\"\n",
    "    \n",
    "    # Create a seperate thread to run the DTrace instrumentation\n",
    "    dtrace_thread = DTraceConsumerThread(script,\n",
    "                                     walk_func=walker,\n",
    "                                     out_func=out,\n",
    "                                     chew_func=lambda v: None,\n",
    "                                     chewrec_func=lambda v: None,\n",
    "                                     sleep=1)\n",
    "    \n",
    "    # Start the DTrace instrumentation\n",
    "    dtrace_thread.start()\n",
    "\n",
    "    # Display header to indicate that dd(1) has started\n",
    "    print(\"## Starting \", cmdline)\n",
    "\n",
    "    output_dtrace = subprocess.run(cmdline.split(\" \"))\n",
    "        \n",
    "    # The benchmark has completed - stop the DTrace instrumentation\n",
    "    dtrace_thread.stop()\n",
    "    dtrace_thread.join()\n",
    "\n",
    "    # Display footer to indicate that the benchmarking has finished\n",
    "    if output_dtrace.returncode == 0:\n",
    "        print(\"## Finished \", cmdline)\n",
    "    elif output_dtrace.returncode == 64: # EX_USAGE\n",
    "        print(\"## Invalid command\", cmdline)\n",
    "    else:\n",
    "        print(\"## Failed with the exit code {}\".format(output_dtrace.returncode))\n",
    "        \n",
    "    # Explicitly free DTrace resources.\n",
    "    # Python's Garbage Collector would free DTrace resources when\n",
    "    # dtrace_thread is reassigned, e.g. when the cell is reexecuted.\n",
    "    # This could be confusing when analysing kernel from a terminal\n",
    "    # and the notebook at the same time.\n",
    "    del dtrace_thread"
   ]
  },
  {
   "cell_type": "markdown",
   "id": "d84dea26-685a-4eb5-8526-28d9d6118289",
   "metadata": {},
   "source": [
    "## Collect aggregations and `printf()` outputs\n",
    "\n",
    "As an example, in order to collect both information on system-call counts (as in Advanced Operating Systems: Lab 1 - Getting Started with Kernel Tracing) and debug state transitions of one side of a pipe at the same time, we define two actions: one that aggregates system-call counts and one that prints details on the pipe.\n",
    "\n",
    "Our `out` function called `ipc_out` parses bytes from one output line at the time and must decode information printed to output as opposed to the `walker` function `ipc_walker` that receives a list of keys.\n",
    "\n",
    "Note that the `ipc_script` D script is an example D script that should be extended with appropriate predicates to only trace information relevant to our benchmark."
   ]
  },
  {
   "cell_type": "code",
   "execution_count": null,
   "id": "89ec029c-e13b-48f5-b4c8-03fbddd75fc0",
   "metadata": {},
   "outputs": [],
   "source": [
    "ipc_script = \"\"\"\n",
    "fbt::pipe_read:entry\n",
    "{\n",
    "    printf(\"%u\",\n",
    "        (unsigned int)((struct pipe *)args[0]->f_data)->pipe_state);\n",
    "}\n",
    "\n",
    "syscall:::entry\n",
    "/execname == \"ipc-benchmark\"/\n",
    "{\n",
    "    @syscalls[probefunc] = count();\n",
    "}\n",
    "\"\"\"\n",
    "\n",
    "from collections import defaultdict\n",
    "syscall_count_values = defaultdict(int)\n",
    "pipe_reads = []\n",
    "\n",
    "def ipc_walker(action, identifier, keys, value):\n",
    "    \"\"\"\n",
    "    action -- a type of action (sum, avg, ...)\n",
    "    identifier -- the id\n",
    "    keys -- list of keys\n",
    "    value -- the value\n",
    "    \"\"\"\n",
    "    syscall_count_values[keys[0]] += value\n",
    "\n",
    "def ipc_out(value):\n",
    "    \"\"\"\n",
    "    value -- the value, of the bytes type.\n",
    "    \"\"\"\n",
    "    value = value.decode('ascii').split(' ')\n",
    "    pipe_reads.append({'state': int(value[0])})\n",
    "\n",
    "dtrace_synchronous(ipc_script, ipc_walker, ipc_out, \"ipc/ipc-benchmark -j -v -i pipe -b {} -t {} 2proc\".format(2**14, 2**15))\n",
    "\n",
    "for x in syscall_count_values.keys():\n",
    "    print(\"Number of \", x, \" calls: \", syscall_count_values[x])\n",
    "\n",
    "pipe_states = [\n",
    "    [0x004, \"PIPE_ASYNC\"],\n",
    "    [0x008, \"PIPE_WANTR\"],\n",
    "    [0x010, \"PIPE_WANTW\"],\n",
    "    [0x020, \"PIPE_WANT\"],\n",
    "    [0x040, \"PIPE_SEL\"],\n",
    "    [0x080, \"PIPE_EOF\"],\n",
    "    [0x100, \"PIPE_LOCKFL\"],\n",
    "    [0x200, \"PIPE_LWANT\"],\n",
    "    [0x400, \"PIPE_DIRECTW\"],\n",
    "    [0x800, \"PIPE_DIRECTOK\"],\n",
    "]\n",
    "for pipe_read in pipe_reads:\n",
    "    print(\"rpipe->pipe_state={}\".format([x[1] for x in pipe_states if x[0] & pipe_read['state']]))\n"
   ]
  }
 ],
 "metadata": {
  "kernelspec": {
   "display_name": "Python 3",
   "language": "python",
   "name": "python3"
  },
  "language_info": {
   "codemirror_mode": {
    "name": "ipython",
    "version": 3
   },
   "file_extension": ".py",
   "mimetype": "text/x-python",
   "name": "python",
   "nbconvert_exporter": "python",
   "pygments_lexer": "ipython3",
   "version": "3.8.12"
  }
 },
 "nbformat": 4,
 "nbformat_minor": 5
}
